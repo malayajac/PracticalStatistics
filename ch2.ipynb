{
 "cells": [
  {
   "cell_type": "markdown",
   "metadata": {},
   "source": [
    "https://youtu.be/7mi6cJSTj6Y?si=4FmMOlxItoU4hSu7"
   ]
  },
  {
   "cell_type": "code",
   "execution_count": 1,
   "metadata": {},
   "outputs": [],
   "source": [
    "import pandas as pd\n",
    "import matplotlib.pyplot as plt"
   ]
  },
  {
   "cell_type": "code",
   "execution_count": 2,
   "metadata": {},
   "outputs": [],
   "source": [
    "players_df = pd.read_csv(\"data/players.csv\")"
   ]
  },
  {
   "cell_type": "code",
   "execution_count": 3,
   "metadata": {},
   "outputs": [
    {
     "data": {
      "text/html": [
       "<div>\n",
       "<style scoped>\n",
       "    .dataframe tbody tr th:only-of-type {\n",
       "        vertical-align: middle;\n",
       "    }\n",
       "\n",
       "    .dataframe tbody tr th {\n",
       "        vertical-align: top;\n",
       "    }\n",
       "\n",
       "    .dataframe thead th {\n",
       "        text-align: right;\n",
       "    }\n",
       "</style>\n",
       "<table border=\"1\" class=\"dataframe\">\n",
       "  <thead>\n",
       "    <tr style=\"text-align: right;\">\n",
       "      <th></th>\n",
       "      <th>nflId</th>\n",
       "      <th>height</th>\n",
       "      <th>weight</th>\n",
       "      <th>birthDate</th>\n",
       "      <th>collegeName</th>\n",
       "      <th>Position</th>\n",
       "      <th>displayName</th>\n",
       "    </tr>\n",
       "  </thead>\n",
       "  <tbody>\n",
       "    <tr>\n",
       "      <th>0</th>\n",
       "      <td>42901</td>\n",
       "      <td>6-1</td>\n",
       "      <td>208</td>\n",
       "      <td>1992-07-25</td>\n",
       "      <td>James Madison</td>\n",
       "      <td>SS</td>\n",
       "      <td>Dean Marlowe</td>\n",
       "    </tr>\n",
       "    <tr>\n",
       "      <th>1</th>\n",
       "      <td>43501</td>\n",
       "      <td>6-0</td>\n",
       "      <td>220</td>\n",
       "      <td>1994-08-11</td>\n",
       "      <td>Central Michigan</td>\n",
       "      <td>FS</td>\n",
       "      <td>Kavon Frazier</td>\n",
       "    </tr>\n",
       "    <tr>\n",
       "      <th>2</th>\n",
       "      <td>43534</td>\n",
       "      <td>6-0</td>\n",
       "      <td>205</td>\n",
       "      <td>1993-06-02</td>\n",
       "      <td>Illinois</td>\n",
       "      <td>SS</td>\n",
       "      <td>Clayton Fejedelem</td>\n",
       "    </tr>\n",
       "    <tr>\n",
       "      <th>3</th>\n",
       "      <td>43535</td>\n",
       "      <td>6-1</td>\n",
       "      <td>235</td>\n",
       "      <td>1992-12-22</td>\n",
       "      <td>Temple</td>\n",
       "      <td>MLB</td>\n",
       "      <td>Tyler Matakevich</td>\n",
       "    </tr>\n",
       "    <tr>\n",
       "      <th>4</th>\n",
       "      <td>44174</td>\n",
       "      <td>6-1</td>\n",
       "      <td>236</td>\n",
       "      <td>1993-02-22</td>\n",
       "      <td>Texas Tech</td>\n",
       "      <td>ILB</td>\n",
       "      <td>Sam Eguavoen</td>\n",
       "    </tr>\n",
       "    <tr>\n",
       "      <th>...</th>\n",
       "      <td>...</td>\n",
       "      <td>...</td>\n",
       "      <td>...</td>\n",
       "      <td>...</td>\n",
       "      <td>...</td>\n",
       "      <td>...</td>\n",
       "      <td>...</td>\n",
       "    </tr>\n",
       "    <tr>\n",
       "      <th>2727</th>\n",
       "      <td>33216</td>\n",
       "      <td>6-3</td>\n",
       "      <td>320</td>\n",
       "      <td>06/16/1986</td>\n",
       "      <td>Central Florida</td>\n",
       "      <td>G</td>\n",
       "      <td>Josh Sitton</td>\n",
       "    </tr>\n",
       "    <tr>\n",
       "      <th>2728</th>\n",
       "      <td>33184</td>\n",
       "      <td>6-3</td>\n",
       "      <td>265</td>\n",
       "      <td>05/02/1985</td>\n",
       "      <td>Winston-Salem State</td>\n",
       "      <td>DE</td>\n",
       "      <td>William Hayes</td>\n",
       "    </tr>\n",
       "    <tr>\n",
       "      <th>2729</th>\n",
       "      <td>45651</td>\n",
       "      <td>5-9</td>\n",
       "      <td>198</td>\n",
       "      <td>06/16/1993</td>\n",
       "      <td>Iowa</td>\n",
       "      <td>WR</td>\n",
       "      <td>Riley McCarron</td>\n",
       "    </tr>\n",
       "    <tr>\n",
       "      <th>2730</th>\n",
       "      <td>41284</td>\n",
       "      <td>73</td>\n",
       "      <td>230</td>\n",
       "      <td>1992-10-20</td>\n",
       "      <td>LSU</td>\n",
       "      <td>RB</td>\n",
       "      <td>Jeremy Hill</td>\n",
       "    </tr>\n",
       "    <tr>\n",
       "      <th>2731</th>\n",
       "      <td>42849</td>\n",
       "      <td>5-10</td>\n",
       "      <td>205</td>\n",
       "      <td>12/14/1992</td>\n",
       "      <td>Texas Tech</td>\n",
       "      <td>WR</td>\n",
       "      <td>Bradley Marquez</td>\n",
       "    </tr>\n",
       "  </tbody>\n",
       "</table>\n",
       "<p>2732 rows × 7 columns</p>\n",
       "</div>"
      ],
      "text/plain": [
       "      nflId height  weight   birthDate          collegeName Position  \\\n",
       "0     42901    6-1     208  1992-07-25        James Madison       SS   \n",
       "1     43501    6-0     220  1994-08-11     Central Michigan       FS   \n",
       "2     43534    6-0     205  1993-06-02             Illinois       SS   \n",
       "3     43535    6-1     235  1992-12-22               Temple      MLB   \n",
       "4     44174    6-1     236  1993-02-22           Texas Tech      ILB   \n",
       "...     ...    ...     ...         ...                  ...      ...   \n",
       "2727  33216    6-3     320  06/16/1986      Central Florida        G   \n",
       "2728  33184    6-3     265  05/02/1985  Winston-Salem State       DE   \n",
       "2729  45651    5-9     198  06/16/1993                 Iowa       WR   \n",
       "2730  41284     73     230  1992-10-20                  LSU       RB   \n",
       "2731  42849   5-10     205  12/14/1992           Texas Tech       WR   \n",
       "\n",
       "            displayName  \n",
       "0          Dean Marlowe  \n",
       "1         Kavon Frazier  \n",
       "2     Clayton Fejedelem  \n",
       "3      Tyler Matakevich  \n",
       "4          Sam Eguavoen  \n",
       "...                 ...  \n",
       "2727        Josh Sitton  \n",
       "2728      William Hayes  \n",
       "2729     Riley McCarron  \n",
       "2730        Jeremy Hill  \n",
       "2731    Bradley Marquez  \n",
       "\n",
       "[2732 rows x 7 columns]"
      ]
     },
     "execution_count": 3,
     "metadata": {},
     "output_type": "execute_result"
    }
   ],
   "source": [
    "players_df"
   ]
  },
  {
   "cell_type": "code",
   "execution_count": 4,
   "metadata": {},
   "outputs": [],
   "source": [
    "players_df[\"height_inches\"] = players_df[\"height\"].apply( lambda x: int(x.split(\"-\")[0])*12 + int(x.split(\"-\")[1]) if len(x.split(\"-\"))==2 else int(x))"
   ]
  },
  {
   "cell_type": "code",
   "execution_count": 5,
   "metadata": {},
   "outputs": [
    {
     "data": {
      "text/html": [
       "<div>\n",
       "<style scoped>\n",
       "    .dataframe tbody tr th:only-of-type {\n",
       "        vertical-align: middle;\n",
       "    }\n",
       "\n",
       "    .dataframe tbody tr th {\n",
       "        vertical-align: top;\n",
       "    }\n",
       "\n",
       "    .dataframe thead th {\n",
       "        text-align: right;\n",
       "    }\n",
       "</style>\n",
       "<table border=\"1\" class=\"dataframe\">\n",
       "  <thead>\n",
       "    <tr style=\"text-align: right;\">\n",
       "      <th></th>\n",
       "      <th>nflId</th>\n",
       "      <th>height</th>\n",
       "      <th>weight</th>\n",
       "      <th>birthDate</th>\n",
       "      <th>collegeName</th>\n",
       "      <th>Position</th>\n",
       "      <th>displayName</th>\n",
       "      <th>height_inches</th>\n",
       "    </tr>\n",
       "  </thead>\n",
       "  <tbody>\n",
       "    <tr>\n",
       "      <th>0</th>\n",
       "      <td>42901</td>\n",
       "      <td>6-1</td>\n",
       "      <td>208</td>\n",
       "      <td>1992-07-25</td>\n",
       "      <td>James Madison</td>\n",
       "      <td>SS</td>\n",
       "      <td>Dean Marlowe</td>\n",
       "      <td>73</td>\n",
       "    </tr>\n",
       "    <tr>\n",
       "      <th>1</th>\n",
       "      <td>43501</td>\n",
       "      <td>6-0</td>\n",
       "      <td>220</td>\n",
       "      <td>1994-08-11</td>\n",
       "      <td>Central Michigan</td>\n",
       "      <td>FS</td>\n",
       "      <td>Kavon Frazier</td>\n",
       "      <td>72</td>\n",
       "    </tr>\n",
       "    <tr>\n",
       "      <th>2</th>\n",
       "      <td>43534</td>\n",
       "      <td>6-0</td>\n",
       "      <td>205</td>\n",
       "      <td>1993-06-02</td>\n",
       "      <td>Illinois</td>\n",
       "      <td>SS</td>\n",
       "      <td>Clayton Fejedelem</td>\n",
       "      <td>72</td>\n",
       "    </tr>\n",
       "    <tr>\n",
       "      <th>3</th>\n",
       "      <td>43535</td>\n",
       "      <td>6-1</td>\n",
       "      <td>235</td>\n",
       "      <td>1992-12-22</td>\n",
       "      <td>Temple</td>\n",
       "      <td>MLB</td>\n",
       "      <td>Tyler Matakevich</td>\n",
       "      <td>73</td>\n",
       "    </tr>\n",
       "    <tr>\n",
       "      <th>4</th>\n",
       "      <td>44174</td>\n",
       "      <td>6-1</td>\n",
       "      <td>236</td>\n",
       "      <td>1993-02-22</td>\n",
       "      <td>Texas Tech</td>\n",
       "      <td>ILB</td>\n",
       "      <td>Sam Eguavoen</td>\n",
       "      <td>73</td>\n",
       "    </tr>\n",
       "    <tr>\n",
       "      <th>...</th>\n",
       "      <td>...</td>\n",
       "      <td>...</td>\n",
       "      <td>...</td>\n",
       "      <td>...</td>\n",
       "      <td>...</td>\n",
       "      <td>...</td>\n",
       "      <td>...</td>\n",
       "      <td>...</td>\n",
       "    </tr>\n",
       "    <tr>\n",
       "      <th>2727</th>\n",
       "      <td>33216</td>\n",
       "      <td>6-3</td>\n",
       "      <td>320</td>\n",
       "      <td>06/16/1986</td>\n",
       "      <td>Central Florida</td>\n",
       "      <td>G</td>\n",
       "      <td>Josh Sitton</td>\n",
       "      <td>75</td>\n",
       "    </tr>\n",
       "    <tr>\n",
       "      <th>2728</th>\n",
       "      <td>33184</td>\n",
       "      <td>6-3</td>\n",
       "      <td>265</td>\n",
       "      <td>05/02/1985</td>\n",
       "      <td>Winston-Salem State</td>\n",
       "      <td>DE</td>\n",
       "      <td>William Hayes</td>\n",
       "      <td>75</td>\n",
       "    </tr>\n",
       "    <tr>\n",
       "      <th>2729</th>\n",
       "      <td>45651</td>\n",
       "      <td>5-9</td>\n",
       "      <td>198</td>\n",
       "      <td>06/16/1993</td>\n",
       "      <td>Iowa</td>\n",
       "      <td>WR</td>\n",
       "      <td>Riley McCarron</td>\n",
       "      <td>69</td>\n",
       "    </tr>\n",
       "    <tr>\n",
       "      <th>2730</th>\n",
       "      <td>41284</td>\n",
       "      <td>73</td>\n",
       "      <td>230</td>\n",
       "      <td>1992-10-20</td>\n",
       "      <td>LSU</td>\n",
       "      <td>RB</td>\n",
       "      <td>Jeremy Hill</td>\n",
       "      <td>73</td>\n",
       "    </tr>\n",
       "    <tr>\n",
       "      <th>2731</th>\n",
       "      <td>42849</td>\n",
       "      <td>5-10</td>\n",
       "      <td>205</td>\n",
       "      <td>12/14/1992</td>\n",
       "      <td>Texas Tech</td>\n",
       "      <td>WR</td>\n",
       "      <td>Bradley Marquez</td>\n",
       "      <td>70</td>\n",
       "    </tr>\n",
       "  </tbody>\n",
       "</table>\n",
       "<p>2732 rows × 8 columns</p>\n",
       "</div>"
      ],
      "text/plain": [
       "      nflId height  weight   birthDate          collegeName Position  \\\n",
       "0     42901    6-1     208  1992-07-25        James Madison       SS   \n",
       "1     43501    6-0     220  1994-08-11     Central Michigan       FS   \n",
       "2     43534    6-0     205  1993-06-02             Illinois       SS   \n",
       "3     43535    6-1     235  1992-12-22               Temple      MLB   \n",
       "4     44174    6-1     236  1993-02-22           Texas Tech      ILB   \n",
       "...     ...    ...     ...         ...                  ...      ...   \n",
       "2727  33216    6-3     320  06/16/1986      Central Florida        G   \n",
       "2728  33184    6-3     265  05/02/1985  Winston-Salem State       DE   \n",
       "2729  45651    5-9     198  06/16/1993                 Iowa       WR   \n",
       "2730  41284     73     230  1992-10-20                  LSU       RB   \n",
       "2731  42849   5-10     205  12/14/1992           Texas Tech       WR   \n",
       "\n",
       "            displayName  height_inches  \n",
       "0          Dean Marlowe             73  \n",
       "1         Kavon Frazier             72  \n",
       "2     Clayton Fejedelem             72  \n",
       "3      Tyler Matakevich             73  \n",
       "4          Sam Eguavoen             73  \n",
       "...                 ...            ...  \n",
       "2727        Josh Sitton             75  \n",
       "2728      William Hayes             75  \n",
       "2729     Riley McCarron             69  \n",
       "2730        Jeremy Hill             73  \n",
       "2731    Bradley Marquez             70  \n",
       "\n",
       "[2732 rows x 8 columns]"
      ]
     },
     "execution_count": 5,
     "metadata": {},
     "output_type": "execute_result"
    }
   ],
   "source": [
    "players_df"
   ]
  },
  {
   "cell_type": "code",
   "execution_count": 6,
   "metadata": {},
   "outputs": [
    {
     "data": {
      "text/plain": [
       "74.0106149341142"
      ]
     },
     "execution_count": 6,
     "metadata": {},
     "output_type": "execute_result"
    }
   ],
   "source": [
    "players_df[\"height_inches\"].mean()"
   ]
  },
  {
   "cell_type": "code",
   "execution_count": 7,
   "metadata": {},
   "outputs": [
    {
     "data": {
      "text/plain": [
       "75.0"
      ]
     },
     "execution_count": 7,
     "metadata": {},
     "output_type": "execute_result"
    }
   ],
   "source": [
    "players_df.sample(10)[\"height_inches\"].mean()"
   ]
  },
  {
   "cell_type": "code",
   "execution_count": 11,
   "metadata": {},
   "outputs": [
    {
     "data": {
      "text/plain": [
       "<matplotlib.lines.Line2D at 0x7f3dea6c56c0>"
      ]
     },
     "execution_count": 11,
     "metadata": {},
     "output_type": "execute_result"
    },
    {
     "data": {
      "image/png": "[encoded data removed]",
      "text/plain": [
       "<Figure size 640x480 with 1 Axes>"
      ]
     },
     "metadata": {},
     "output_type": "display_data"
    }
   ],
   "source": [
    "sample_amounts = range(10, 500, 60)\n",
    "\n",
    "for x in sample_amounts:\n",
    "    samples = []\n",
    "    for i in range(1000):\n",
    "        samples.append(players_df.sample(x)[\"height_inches\"].mean())\n",
    "    plt.hist(samples, alpha=0.5)\n",
    "plt.legend([f\"{z} samples\" for z in sample_amounts])\n",
    "plt.title(\"Central Limit Theorem\")\n",
    "plt.axvline(x=players_df[\"height_inches\"].mean(), c=\"k\")"
   ]
  },
  {
   "cell_type": "code",
   "execution_count": 12,
   "metadata": {},
   "outputs": [
    {
     "data": {
      "text/plain": [
       "0.05065243293253027"
      ]
     },
     "execution_count": 12,
     "metadata": {},
     "output_type": "execute_result"
    }
   ],
   "source": [
    "players_df[\"height_inches\"].sem()"
   ]
  },
  {
   "cell_type": "markdown",
   "metadata": {},
   "source": [
    "https://youtu.be/TqOeMYtOc1w?si=Wythg-FyVLp_stK9"
   ]
  },
  {
   "cell_type": "markdown",
   "metadata": {},
   "source": [
    "## The Bootstrap"
   ]
  },
  {
   "cell_type": "markdown",
   "metadata": {},
   "source": [
    "- The bootstrap is a sampling procedure to draw additional samples from a given sample.\n",
    "- The procedure does not necessarily involve any assumptions about the data or the sample statistic being normally distributed.\n",
    "- Suppose you have a sample from a population. You don't have the population. You can calculate a sample statistic, eg sample mean. You want to figure out just from this sample what statistic values would be reasonable for the whole population. We caan bootstrap the given sample. Bootstrap procedure:\n",
    "    - From this sample of size $n$, randomly select $n$ values, with replacement.\n",
    "    - Calculate the sample statistic.\n",
    "    - Repeat the last two steps many (>10k) times.\n"
   ]
  },
  {
   "cell_type": "markdown",
   "metadata": {},
   "source": [
    "## Confidence Intervals"
   ]
  },
  {
   "cell_type": "markdown",
   "metadata": {},
   "source": [
    "- Suppose you have a lot of sample statistic values from a set of bootstrapped samples. Suppose the sample statistic here is the mean.\n",
    "- A 95% confidence interval is just an interval that covers 95% of the means calculated by bootstrapping the sample.\n",
    "- Why are confidence intervals useful?\n",
    "    - Because confidence intervals are statistical tests performed visually.\n",
    "    - The confidence interval covers 95% of the means, so we know that anything outside of it occurs less than 5% of the time.\n",
    "    - I.e. the p-value of anything outside the confidence interval is <0.05, and thus is significantly different from the true statistic."
   ]
  },
  {
   "cell_type": "markdown",
   "metadata": {},
   "source": [
    "- Suppose we want to compare two samples (e.g. weight of female mice and wight of male mice).\n",
    "- Do bootstrapping on both samples, and find the means of the bootstrapped samples.\n",
    "- If 95% confidence intervals of the two bootstrapped means don't overlap, that means the "
   ]
  }
 ],
 "metadata": {
  "kernelspec": {
   "display_name": "stuff",
   "language": "python",
   "name": "python3"
  },
  "language_info": {
   "codemirror_mode": {
    "name": "ipython",
    "version": 3
   },
   "file_extension": ".py",
   "mimetype": "text/x-python",
   "name": "python",
   "nbconvert_exporter": "python",
   "pygments_lexer": "ipython3",
   "version": "3.10.13"
  }
 },
 "nbformat": 4,
 "nbformat_minor": 2
}

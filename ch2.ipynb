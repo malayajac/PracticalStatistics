{
 "cells": [
  {
   "cell_type": "markdown",
   "metadata": {},
   "source": [
    "https://youtu.be/7mi6cJSTj6Y?si=4FmMOlxItoU4hSu7"
   ]
  },
  {
   "cell_type": "code",
   "execution_count": 40,
   "metadata": {},
   "outputs": [],
   "source": [
    "import numpy as np\n",
    "import pandas as pd\n",
    "import matplotlib.pyplot as plt"
   ]
  },
  {
   "cell_type": "code",
   "execution_count": 7,
   "metadata": {},
   "outputs": [],
   "source": [
    "players_df = pd.read_csv(\"data/players.csv\")"
   ]
  },
  {
   "cell_type": "code",
   "execution_count": 8,
   "metadata": {},
   "outputs": [
    {
     "data": {
      "text/html": [
       "<div>\n",
       "<style scoped>\n",
       "    .dataframe tbody tr th:only-of-type {\n",
       "        vertical-align: middle;\n",
       "    }\n",
       "\n",
       "    .dataframe tbody tr th {\n",
       "        vertical-align: top;\n",
       "    }\n",
       "\n",
       "    .dataframe thead th {\n",
       "        text-align: right;\n",
       "    }\n",
       "</style>\n",
       "<table border=\"1\" class=\"dataframe\">\n",
       "  <thead>\n",
       "    <tr style=\"text-align: right;\">\n",
       "      <th></th>\n",
       "      <th>nflId</th>\n",
       "      <th>height</th>\n",
       "      <th>weight</th>\n",
       "      <th>birthDate</th>\n",
       "      <th>collegeName</th>\n",
       "      <th>Position</th>\n",
       "      <th>displayName</th>\n",
       "    </tr>\n",
       "  </thead>\n",
       "  <tbody>\n",
       "    <tr>\n",
       "      <th>0</th>\n",
       "      <td>42901</td>\n",
       "      <td>6-1</td>\n",
       "      <td>208</td>\n",
       "      <td>1992-07-25</td>\n",
       "      <td>James Madison</td>\n",
       "      <td>SS</td>\n",
       "      <td>Dean Marlowe</td>\n",
       "    </tr>\n",
       "    <tr>\n",
       "      <th>1</th>\n",
       "      <td>43501</td>\n",
       "      <td>6-0</td>\n",
       "      <td>220</td>\n",
       "      <td>1994-08-11</td>\n",
       "      <td>Central Michigan</td>\n",
       "      <td>FS</td>\n",
       "      <td>Kavon Frazier</td>\n",
       "    </tr>\n",
       "    <tr>\n",
       "      <th>2</th>\n",
       "      <td>43534</td>\n",
       "      <td>6-0</td>\n",
       "      <td>205</td>\n",
       "      <td>1993-06-02</td>\n",
       "      <td>Illinois</td>\n",
       "      <td>SS</td>\n",
       "      <td>Clayton Fejedelem</td>\n",
       "    </tr>\n",
       "    <tr>\n",
       "      <th>3</th>\n",
       "      <td>43535</td>\n",
       "      <td>6-1</td>\n",
       "      <td>235</td>\n",
       "      <td>1992-12-22</td>\n",
       "      <td>Temple</td>\n",
       "      <td>MLB</td>\n",
       "      <td>Tyler Matakevich</td>\n",
       "    </tr>\n",
       "    <tr>\n",
       "      <th>4</th>\n",
       "      <td>44174</td>\n",
       "      <td>6-1</td>\n",
       "      <td>236</td>\n",
       "      <td>1993-02-22</td>\n",
       "      <td>Texas Tech</td>\n",
       "      <td>ILB</td>\n",
       "      <td>Sam Eguavoen</td>\n",
       "    </tr>\n",
       "    <tr>\n",
       "      <th>...</th>\n",
       "      <td>...</td>\n",
       "      <td>...</td>\n",
       "      <td>...</td>\n",
       "      <td>...</td>\n",
       "      <td>...</td>\n",
       "      <td>...</td>\n",
       "      <td>...</td>\n",
       "    </tr>\n",
       "    <tr>\n",
       "      <th>2727</th>\n",
       "      <td>33216</td>\n",
       "      <td>6-3</td>\n",
       "      <td>320</td>\n",
       "      <td>06/16/1986</td>\n",
       "      <td>Central Florida</td>\n",
       "      <td>G</td>\n",
       "      <td>Josh Sitton</td>\n",
       "    </tr>\n",
       "    <tr>\n",
       "      <th>2728</th>\n",
       "      <td>33184</td>\n",
       "      <td>6-3</td>\n",
       "      <td>265</td>\n",
       "      <td>05/02/1985</td>\n",
       "      <td>Winston-Salem State</td>\n",
       "      <td>DE</td>\n",
       "      <td>William Hayes</td>\n",
       "    </tr>\n",
       "    <tr>\n",
       "      <th>2729</th>\n",
       "      <td>45651</td>\n",
       "      <td>5-9</td>\n",
       "      <td>198</td>\n",
       "      <td>06/16/1993</td>\n",
       "      <td>Iowa</td>\n",
       "      <td>WR</td>\n",
       "      <td>Riley McCarron</td>\n",
       "    </tr>\n",
       "    <tr>\n",
       "      <th>2730</th>\n",
       "      <td>41284</td>\n",
       "      <td>73</td>\n",
       "      <td>230</td>\n",
       "      <td>1992-10-20</td>\n",
       "      <td>LSU</td>\n",
       "      <td>RB</td>\n",
       "      <td>Jeremy Hill</td>\n",
       "    </tr>\n",
       "    <tr>\n",
       "      <th>2731</th>\n",
       "      <td>42849</td>\n",
       "      <td>5-10</td>\n",
       "      <td>205</td>\n",
       "      <td>12/14/1992</td>\n",
       "      <td>Texas Tech</td>\n",
       "      <td>WR</td>\n",
       "      <td>Bradley Marquez</td>\n",
       "    </tr>\n",
       "  </tbody>\n",
       "</table>\n",
       "<p>2732 rows × 7 columns</p>\n",
       "</div>"
      ],
      "text/plain": [
       "      nflId height  weight   birthDate          collegeName Position  \\\n",
       "0     42901    6-1     208  1992-07-25        James Madison       SS   \n",
       "1     43501    6-0     220  1994-08-11     Central Michigan       FS   \n",
       "2     43534    6-0     205  1993-06-02             Illinois       SS   \n",
       "3     43535    6-1     235  1992-12-22               Temple      MLB   \n",
       "4     44174    6-1     236  1993-02-22           Texas Tech      ILB   \n",
       "...     ...    ...     ...         ...                  ...      ...   \n",
       "2727  33216    6-3     320  06/16/1986      Central Florida        G   \n",
       "2728  33184    6-3     265  05/02/1985  Winston-Salem State       DE   \n",
       "2729  45651    5-9     198  06/16/1993                 Iowa       WR   \n",
       "2730  41284     73     230  1992-10-20                  LSU       RB   \n",
       "2731  42849   5-10     205  12/14/1992           Texas Tech       WR   \n",
       "\n",
       "            displayName  \n",
       "0          Dean Marlowe  \n",
       "1         Kavon Frazier  \n",
       "2     Clayton Fejedelem  \n",
       "3      Tyler Matakevich  \n",
       "4          Sam Eguavoen  \n",
       "...                 ...  \n",
       "2727        Josh Sitton  \n",
       "2728      William Hayes  \n",
       "2729     Riley McCarron  \n",
       "2730        Jeremy Hill  \n",
       "2731    Bradley Marquez  \n",
       "\n",
       "[2732 rows x 7 columns]"
      ]
     },
     "execution_count": 8,
     "metadata": {},
     "output_type": "execute_result"
    }
   ],
   "source": [
    "players_df"
   ]
  },
  {
   "cell_type": "code",
   "execution_count": 9,
   "metadata": {},
   "outputs": [],
   "source": [
    "players_df[\"height_inches\"] = players_df[\"height\"].apply( lambda x: int(x.split(\"-\")[0])*12 + int(x.split(\"-\")[1]) if len(x.split(\"-\"))==2 else int(x))"
   ]
  },
  {
   "cell_type": "code",
   "execution_count": 10,
   "metadata": {},
   "outputs": [
    {
     "data": {
      "text/html": [
       "<div>\n",
       "<style scoped>\n",
       "    .dataframe tbody tr th:only-of-type {\n",
       "        vertical-align: middle;\n",
       "    }\n",
       "\n",
       "    .dataframe tbody tr th {\n",
       "        vertical-align: top;\n",
       "    }\n",
       "\n",
       "    .dataframe thead th {\n",
       "        text-align: right;\n",
       "    }\n",
       "</style>\n",
       "<table border=\"1\" class=\"dataframe\">\n",
       "  <thead>\n",
       "    <tr style=\"text-align: right;\">\n",
       "      <th></th>\n",
       "      <th>nflId</th>\n",
       "      <th>height</th>\n",
       "      <th>weight</th>\n",
       "      <th>birthDate</th>\n",
       "      <th>collegeName</th>\n",
       "      <th>Position</th>\n",
       "      <th>displayName</th>\n",
       "      <th>height_inches</th>\n",
       "    </tr>\n",
       "  </thead>\n",
       "  <tbody>\n",
       "    <tr>\n",
       "      <th>0</th>\n",
       "      <td>42901</td>\n",
       "      <td>6-1</td>\n",
       "      <td>208</td>\n",
       "      <td>1992-07-25</td>\n",
       "      <td>James Madison</td>\n",
       "      <td>SS</td>\n",
       "      <td>Dean Marlowe</td>\n",
       "      <td>73</td>\n",
       "    </tr>\n",
       "    <tr>\n",
       "      <th>1</th>\n",
       "      <td>43501</td>\n",
       "      <td>6-0</td>\n",
       "      <td>220</td>\n",
       "      <td>1994-08-11</td>\n",
       "      <td>Central Michigan</td>\n",
       "      <td>FS</td>\n",
       "      <td>Kavon Frazier</td>\n",
       "      <td>72</td>\n",
       "    </tr>\n",
       "    <tr>\n",
       "      <th>2</th>\n",
       "      <td>43534</td>\n",
       "      <td>6-0</td>\n",
       "      <td>205</td>\n",
       "      <td>1993-06-02</td>\n",
       "      <td>Illinois</td>\n",
       "      <td>SS</td>\n",
       "      <td>Clayton Fejedelem</td>\n",
       "      <td>72</td>\n",
       "    </tr>\n",
       "    <tr>\n",
       "      <th>3</th>\n",
       "      <td>43535</td>\n",
       "      <td>6-1</td>\n",
       "      <td>235</td>\n",
       "      <td>1992-12-22</td>\n",
       "      <td>Temple</td>\n",
       "      <td>MLB</td>\n",
       "      <td>Tyler Matakevich</td>\n",
       "      <td>73</td>\n",
       "    </tr>\n",
       "    <tr>\n",
       "      <th>4</th>\n",
       "      <td>44174</td>\n",
       "      <td>6-1</td>\n",
       "      <td>236</td>\n",
       "      <td>1993-02-22</td>\n",
       "      <td>Texas Tech</td>\n",
       "      <td>ILB</td>\n",
       "      <td>Sam Eguavoen</td>\n",
       "      <td>73</td>\n",
       "    </tr>\n",
       "    <tr>\n",
       "      <th>...</th>\n",
       "      <td>...</td>\n",
       "      <td>...</td>\n",
       "      <td>...</td>\n",
       "      <td>...</td>\n",
       "      <td>...</td>\n",
       "      <td>...</td>\n",
       "      <td>...</td>\n",
       "      <td>...</td>\n",
       "    </tr>\n",
       "    <tr>\n",
       "      <th>2727</th>\n",
       "      <td>33216</td>\n",
       "      <td>6-3</td>\n",
       "      <td>320</td>\n",
       "      <td>06/16/1986</td>\n",
       "      <td>Central Florida</td>\n",
       "      <td>G</td>\n",
       "      <td>Josh Sitton</td>\n",
       "      <td>75</td>\n",
       "    </tr>\n",
       "    <tr>\n",
       "      <th>2728</th>\n",
       "      <td>33184</td>\n",
       "      <td>6-3</td>\n",
       "      <td>265</td>\n",
       "      <td>05/02/1985</td>\n",
       "      <td>Winston-Salem State</td>\n",
       "      <td>DE</td>\n",
       "      <td>William Hayes</td>\n",
       "      <td>75</td>\n",
       "    </tr>\n",
       "    <tr>\n",
       "      <th>2729</th>\n",
       "      <td>45651</td>\n",
       "      <td>5-9</td>\n",
       "      <td>198</td>\n",
       "      <td>06/16/1993</td>\n",
       "      <td>Iowa</td>\n",
       "      <td>WR</td>\n",
       "      <td>Riley McCarron</td>\n",
       "      <td>69</td>\n",
       "    </tr>\n",
       "    <tr>\n",
       "      <th>2730</th>\n",
       "      <td>41284</td>\n",
       "      <td>73</td>\n",
       "      <td>230</td>\n",
       "      <td>1992-10-20</td>\n",
       "      <td>LSU</td>\n",
       "      <td>RB</td>\n",
       "      <td>Jeremy Hill</td>\n",
       "      <td>73</td>\n",
       "    </tr>\n",
       "    <tr>\n",
       "      <th>2731</th>\n",
       "      <td>42849</td>\n",
       "      <td>5-10</td>\n",
       "      <td>205</td>\n",
       "      <td>12/14/1992</td>\n",
       "      <td>Texas Tech</td>\n",
       "      <td>WR</td>\n",
       "      <td>Bradley Marquez</td>\n",
       "      <td>70</td>\n",
       "    </tr>\n",
       "  </tbody>\n",
       "</table>\n",
       "<p>2732 rows × 8 columns</p>\n",
       "</div>"
      ],
      "text/plain": [
       "      nflId height  weight   birthDate          collegeName Position  \\\n",
       "0     42901    6-1     208  1992-07-25        James Madison       SS   \n",
       "1     43501    6-0     220  1994-08-11     Central Michigan       FS   \n",
       "2     43534    6-0     205  1993-06-02             Illinois       SS   \n",
       "3     43535    6-1     235  1992-12-22               Temple      MLB   \n",
       "4     44174    6-1     236  1993-02-22           Texas Tech      ILB   \n",
       "...     ...    ...     ...         ...                  ...      ...   \n",
       "2727  33216    6-3     320  06/16/1986      Central Florida        G   \n",
       "2728  33184    6-3     265  05/02/1985  Winston-Salem State       DE   \n",
       "2729  45651    5-9     198  06/16/1993                 Iowa       WR   \n",
       "2730  41284     73     230  1992-10-20                  LSU       RB   \n",
       "2731  42849   5-10     205  12/14/1992           Texas Tech       WR   \n",
       "\n",
       "            displayName  height_inches  \n",
       "0          Dean Marlowe             73  \n",
       "1         Kavon Frazier             72  \n",
       "2     Clayton Fejedelem             72  \n",
       "3      Tyler Matakevich             73  \n",
       "4          Sam Eguavoen             73  \n",
       "...                 ...            ...  \n",
       "2727        Josh Sitton             75  \n",
       "2728      William Hayes             75  \n",
       "2729     Riley McCarron             69  \n",
       "2730        Jeremy Hill             73  \n",
       "2731    Bradley Marquez             70  \n",
       "\n",
       "[2732 rows x 8 columns]"
      ]
     },
     "execution_count": 10,
     "metadata": {},
     "output_type": "execute_result"
    }
   ],
   "source": [
    "players_df"
   ]
  },
  {
   "cell_type": "code",
   "execution_count": 11,
   "metadata": {},
   "outputs": [
    {
     "data": {
      "text/plain": [
       "74.0106149341142"
      ]
     },
     "execution_count": 11,
     "metadata": {},
     "output_type": "execute_result"
    }
   ],
   "source": [
    "players_df[\"height_inches\"].mean()"
   ]
  },
  {
   "cell_type": "code",
   "execution_count": 12,
   "metadata": {},
   "outputs": [
    {
     "data": {
      "text/plain": [
       "75.0"
      ]
     },
     "execution_count": 12,
     "metadata": {},
     "output_type": "execute_result"
    }
   ],
   "source": [
    "players_df.sample(10)[\"height_inches\"].mean()"
   ]
  },
  {
   "cell_type": "code",
   "execution_count": 13,
   "metadata": {},
   "outputs": [
    {
     "data": {
      "text/plain": [
       "<matplotlib.lines.Line2D at 0x7ff54cc2b310>"
      ]
     },
     "execution_count": 13,
     "metadata": {},
     "output_type": "execute_result"
    },
    {
     "data": {
      "image/png": "[encoded data removed]",
      "text/plain": [
       "<Figure size 640x480 with 1 Axes>"
      ]
     },
     "metadata": {},
     "output_type": "display_data"
    }
   ],
   "source": [
    "sample_amounts = range(10, 500, 60)\n",
    "\n",
    "for x in sample_amounts:\n",
    "    samples = []\n",
    "    for i in range(1000):\n",
    "        samples.append(players_df.sample(x)[\"height_inches\"].mean())\n",
    "    plt.hist(samples, alpha=0.5)\n",
    "plt.legend([f\"{z} samples\" for z in sample_amounts])\n",
    "plt.title(\"Central Limit Theorem\")\n",
    "plt.axvline(x=players_df[\"height_inches\"].mean(), c=\"k\")"
   ]
  },
  {
   "cell_type": "code",
   "execution_count": 14,
   "metadata": {},
   "outputs": [
    {
     "data": {
      "text/plain": [
       "0.05065243293253027"
      ]
     },
     "execution_count": 14,
     "metadata": {},
     "output_type": "execute_result"
    }
   ],
   "source": [
    "players_df[\"height_inches\"].sem()"
   ]
  },
  {
   "cell_type": "markdown",
   "metadata": {},
   "source": [
    "https://youtu.be/TqOeMYtOc1w?si=Wythg-FyVLp_stK9"
   ]
  },
  {
   "cell_type": "markdown",
   "metadata": {},
   "source": [
    "## The Bootstrap"
   ]
  },
  {
   "cell_type": "markdown",
   "metadata": {},
   "source": [
    "- The bootstrap is a sampling procedure to draw additional samples from a given sample.\n",
    "- The procedure does not necessarily involve any assumptions about the data or the sample statistic being normally distributed.\n",
    "- Suppose you have a sample from a population. You don't have the population. You can calculate a sample statistic, eg sample mean. You want to figure out just from this sample what statistic values would be reasonable for the whole population. We caan bootstrap the given sample. Bootstrap procedure:\n",
    "    - From this sample of size $n$, randomly select $n$ values, with replacement.\n",
    "    - Calculate the sample statistic.\n",
    "    - Repeat the last two steps many (>10k) times.\n"
   ]
  },
  {
   "cell_type": "code",
   "execution_count": 15,
   "metadata": {},
   "outputs": [],
   "source": [
    "from sklearn.utils import resample"
   ]
  },
  {
   "cell_type": "code",
   "execution_count": 16,
   "metadata": {},
   "outputs": [
    {
     "name": "stdout",
     "output_type": "stream",
     "text": [
      "\u001b[0;31mSignature:\u001b[0m\n",
      "\u001b[0mresample\u001b[0m\u001b[0;34m(\u001b[0m\u001b[0;34m\u001b[0m\n",
      "\u001b[0;34m\u001b[0m    \u001b[0;34m*\u001b[0m\u001b[0marrays\u001b[0m\u001b[0;34m,\u001b[0m\u001b[0;34m\u001b[0m\n",
      "\u001b[0;34m\u001b[0m    \u001b[0mreplace\u001b[0m\u001b[0;34m=\u001b[0m\u001b[0;32mTrue\u001b[0m\u001b[0;34m,\u001b[0m\u001b[0;34m\u001b[0m\n",
      "\u001b[0;34m\u001b[0m    \u001b[0mn_samples\u001b[0m\u001b[0;34m=\u001b[0m\u001b[0;32mNone\u001b[0m\u001b[0;34m,\u001b[0m\u001b[0;34m\u001b[0m\n",
      "\u001b[0;34m\u001b[0m    \u001b[0mrandom_state\u001b[0m\u001b[0;34m=\u001b[0m\u001b[0;32mNone\u001b[0m\u001b[0;34m,\u001b[0m\u001b[0;34m\u001b[0m\n",
      "\u001b[0;34m\u001b[0m    \u001b[0mstratify\u001b[0m\u001b[0;34m=\u001b[0m\u001b[0;32mNone\u001b[0m\u001b[0;34m,\u001b[0m\u001b[0;34m\u001b[0m\n",
      "\u001b[0;34m\u001b[0m\u001b[0;34m)\u001b[0m\u001b[0;34m\u001b[0m\u001b[0;34m\u001b[0m\u001b[0m\n",
      "\u001b[0;31mDocstring:\u001b[0m\n",
      "Resample arrays or sparse matrices in a consistent way.\n",
      "\n",
      "The default strategy implements one step of the bootstrapping\n",
      "procedure.\n",
      "\n",
      "Parameters\n",
      "----------\n",
      "*arrays : sequence of array-like of shape (n_samples,) or             (n_samples, n_outputs)\n",
      "    Indexable data-structures can be arrays, lists, dataframes or scipy\n",
      "    sparse matrices with consistent first dimension.\n",
      "\n",
      "replace : bool, default=True\n",
      "    Implements resampling with replacement. If False, this will implement\n",
      "    (sliced) random permutations.\n",
      "\n",
      "n_samples : int, default=None\n",
      "    Number of samples to generate. If left to None this is\n",
      "    automatically set to the first dimension of the arrays.\n",
      "    If replace is False it should not be larger than the length of\n",
      "    arrays.\n",
      "\n",
      "random_state : int, RandomState instance or None, default=None\n",
      "    Determines random number generation for shuffling\n",
      "    the data.\n",
      "    Pass an int for reproducible results across multiple function calls.\n",
      "    See :term:`Glossary <random_state>`.\n",
      "\n",
      "stratify : array-like of shape (n_samples,) or (n_samples, n_outputs),             default=None\n",
      "    If not None, data is split in a stratified fashion, using this as\n",
      "    the class labels.\n",
      "\n",
      "Returns\n",
      "-------\n",
      "resampled_arrays : sequence of array-like of shape (n_samples,) or             (n_samples, n_outputs)\n",
      "    Sequence of resampled copies of the collections. The original arrays\n",
      "    are not impacted.\n",
      "\n",
      "See Also\n",
      "--------\n",
      "shuffle : Shuffle arrays or sparse matrices in a consistent way.\n",
      "\n",
      "Examples\n",
      "--------\n",
      "It is possible to mix sparse and dense arrays in the same run::\n",
      "\n",
      "  >>> import numpy as np\n",
      "  >>> X = np.array([[1., 0.], [2., 1.], [0., 0.]])\n",
      "  >>> y = np.array([0, 1, 2])\n",
      "\n",
      "  >>> from scipy.sparse import coo_matrix\n",
      "  >>> X_sparse = coo_matrix(X)\n",
      "\n",
      "  >>> from sklearn.utils import resample\n",
      "  >>> X, X_sparse, y = resample(X, X_sparse, y, random_state=0)\n",
      "  >>> X\n",
      "  array([[1., 0.],\n",
      "         [2., 1.],\n",
      "         [1., 0.]])\n",
      "\n",
      "  >>> X_sparse\n",
      "  <3x2 sparse matrix of type '<... 'numpy.float64'>'\n",
      "      with 4 stored elements in Compressed Sparse Row format>\n",
      "\n",
      "  >>> X_sparse.toarray()\n",
      "  array([[1., 0.],\n",
      "         [2., 1.],\n",
      "         [1., 0.]])\n",
      "\n",
      "  >>> y\n",
      "  array([0, 1, 0])\n",
      "\n",
      "  >>> resample(y, n_samples=2, random_state=0)\n",
      "  array([0, 1])\n",
      "\n",
      "Example using stratification::\n",
      "\n",
      "  >>> y = [0, 0, 1, 1, 1, 1, 1, 1, 1]\n",
      "  >>> resample(y, n_samples=5, replace=False, stratify=y,\n",
      "  ...          random_state=0)\n",
      "  [1, 1, 1, 0, 1]\n",
      "\u001b[0;31mFile:\u001b[0m      ~/anaconda3/envs/practical_stats/lib/python3.10/site-packages/sklearn/utils/__init__.py\n",
      "\u001b[0;31mType:\u001b[0m      function"
     ]
    }
   ],
   "source": [
    "resample?"
   ]
  },
  {
   "cell_type": "code",
   "execution_count": 43,
   "metadata": {},
   "outputs": [
    {
     "data": {
      "text/plain": [
       "74.0106149341142"
      ]
     },
     "execution_count": 43,
     "metadata": {},
     "output_type": "execute_result"
    }
   ],
   "source": [
    "players_df[\"height_inches\"].mean()"
   ]
  },
  {
   "cell_type": "code",
   "execution_count": 45,
   "metadata": {},
   "outputs": [
    {
     "name": "stdout",
     "output_type": "stream",
     "text": [
      "74.01014377745243\n",
      "0.00047115666177433013\n"
     ]
    }
   ],
   "source": [
    "results = []\n",
    "for nrepeat in range(10000):\n",
    "    sample = resample(players_df[\"height_inches\"])\n",
    "    results.append(sample.mean())\n",
    "np.mean(results)\n",
    "print(np.mean(results))\n",
    "print(players_df[\"height_inches\"].mean() - np.mean(results))"
   ]
  },
  {
   "cell_type": "markdown",
   "metadata": {},
   "source": [
    "## Confidence Intervals"
   ]
  },
  {
   "cell_type": "markdown",
   "metadata": {},
   "source": [
    "- Frequency tables, histograms, boxplots, standard errors, are a way to understand the potential error in a sample estimate. Confidence intervals are another."
   ]
  },
  {
   "cell_type": "markdown",
   "metadata": {},
   "source": [
    "- Suppose you have a lot of sample statistic values from a set of bootstrapped samples. Suppose the sample statistic here is the mean.\n",
    "- A 95% confidence interval is just an interval that covers 95% of the means calculated by bootstrapping the sample.\n",
    "- Why are confidence intervals useful?\n",
    "    - Because confidence intervals are statistical tests performed visually.\n",
    "    - The confidence interval covers 95% of the means, so we know that anything outside of it occurs less than 5% of the time.\n",
    "    - I.e. the p-value of anything outside the confidence interval is <0.05, and thus is significantly different from the true statistic."
   ]
  },
  {
   "cell_type": "markdown",
   "metadata": {},
   "source": [
    "- Suppose we want to compare two samples (e.g. weight of female mice and wight of male mice).\n",
    "- Do bootstrapping on both samples, and find the means of the bootstrapped samples.\n",
    "- If the 95% confidence intervals of the two bootstrapped means don't overlap, that means there is statistically significant difference between the weights of female and male mice.\n",
    "- If the 95% confidence intervals of the two bootstrapped means overlap, that means there is still a chance that the means are significantly different from each other, and we can perform the t-test to be sure."
   ]
  },
  {
   "cell_type": "markdown",
   "metadata": {},
   "source": [
    "- Confidence intervals are a great way of determining if more data needs to be calculated or if more research needs to be done into the phenomenon.\n",
    "- If the bounds of the interval are too far apart, then it can be a sign that not enough data was gathered. A large confidence interval can also signal a more variable dataset."
   ]
  },
  {
   "cell_type": "markdown",
   "metadata": {},
   "source": [
    "https://www.statology.org/confidence-intervals-python/"
   ]
  },
  {
   "cell_type": "markdown",
   "metadata": {},
   "source": [
    "- Confidence interval for the mean is a range of values that is likely to contain a population mean with a certain level of confidence."
   ]
  },
  {
   "cell_type": "markdown",
   "metadata": {},
   "source": [
    "- When working with a small sample (n<30), we can assume that the sampling distribution of the sample mean is t-distributed."
   ]
  },
  {
   "cell_type": "code",
   "execution_count": 47,
   "metadata": {},
   "outputs": [],
   "source": [
    "import scipy.stats as st"
   ]
  },
  {
   "cell_type": "code",
   "execution_count": 50,
   "metadata": {},
   "outputs": [],
   "source": [
    "# define sample data:\n",
    "data = [12, 12, 13, 13, 15, 16, 17, 22, 23, 25, 26, 27, 28, 28, 29]"
   ]
  },
  {
   "cell_type": "code",
   "execution_count": 52,
   "metadata": {},
   "outputs": [
    {
     "name": "stdout",
     "output_type": "stream",
     "text": [
      "\u001b[0;31mSignature:\u001b[0m \u001b[0mst\u001b[0m\u001b[0;34m.\u001b[0m\u001b[0msem\u001b[0m\u001b[0;34m(\u001b[0m\u001b[0ma\u001b[0m\u001b[0;34m,\u001b[0m \u001b[0maxis\u001b[0m\u001b[0;34m=\u001b[0m\u001b[0;36m0\u001b[0m\u001b[0;34m,\u001b[0m \u001b[0mddof\u001b[0m\u001b[0;34m=\u001b[0m\u001b[0;36m1\u001b[0m\u001b[0;34m,\u001b[0m \u001b[0mnan_policy\u001b[0m\u001b[0;34m=\u001b[0m\u001b[0;34m'propagate'\u001b[0m\u001b[0;34m,\u001b[0m \u001b[0;34m*\u001b[0m\u001b[0;34m,\u001b[0m \u001b[0mkeepdims\u001b[0m\u001b[0;34m=\u001b[0m\u001b[0;32mFalse\u001b[0m\u001b[0;34m)\u001b[0m\u001b[0;34m\u001b[0m\u001b[0;34m\u001b[0m\u001b[0m\n",
      "\u001b[0;31mDocstring:\u001b[0m\n",
      "Compute standard error of the mean.\n",
      "\n",
      "Calculate the standard error of the mean (or standard error of\n",
      "measurement) of the values in the input array.\n",
      "\n",
      "Parameters\n",
      "----------\n",
      "a : array_like\n",
      "    An array containing the values for which the standard error is\n",
      "    returned.\n",
      "axis : int or None, default: 0\n",
      "    If an int, the axis of the input along which to compute the statistic.\n",
      "    The statistic of each axis-slice (e.g. row) of the input will appear in a\n",
      "    corresponding element of the output.\n",
      "    If ``None``, the input will be raveled before computing the statistic.\n",
      "ddof : int, optional\n",
      "    Delta degrees-of-freedom. How many degrees of freedom to adjust\n",
      "    for bias in limited samples relative to the population estimate\n",
      "    of variance. Defaults to 1.\n",
      "nan_policy : {'propagate', 'omit', 'raise'}\n",
      "    Defines how to handle input NaNs.\n",
      "    \n",
      "    - ``propagate``: if a NaN is present in the axis slice (e.g. row) along\n",
      "      which the  statistic is computed, the corresponding entry of the output\n",
      "      will be NaN.\n",
      "    - ``omit``: NaNs will be omitted when performing the calculation.\n",
      "      If insufficient data remains in the axis slice along which the\n",
      "      statistic is computed, the corresponding entry of the output will be\n",
      "      NaN.\n",
      "    - ``raise``: if a NaN is present, a ``ValueError`` will be raised.\n",
      "keepdims : bool, default: False\n",
      "    If this is set to True, the axes which are reduced are left\n",
      "    in the result as dimensions with size one. With this option,\n",
      "    the result will broadcast correctly against the input array.\n",
      "\n",
      "Returns\n",
      "-------\n",
      "s : ndarray or float\n",
      "    The standard error of the mean in the sample(s), along the input axis.\n",
      "\n",
      "Notes\n",
      "-----\n",
      "The default value for `ddof` is different to the default (0) used by other\n",
      "ddof containing routines, such as np.std and np.nanstd.\n",
      "\n",
      "Beginning in SciPy 1.9, ``np.matrix`` inputs (not recommended for new\n",
      "code) are converted to ``np.ndarray`` before the calculation is performed. In\n",
      "this case, the output will be a scalar or ``np.ndarray`` of appropriate shape\n",
      "rather than a 2D ``np.matrix``. Similarly, while masked elements of masked\n",
      "arrays are ignored, the output will be a scalar or ``np.ndarray`` rather than a\n",
      "masked array with ``mask=False``.\n",
      "\n",
      "Examples\n",
      "--------\n",
      "Find standard error along the first axis:\n",
      "\n",
      ">>> import numpy as np\n",
      ">>> from scipy import stats\n",
      ">>> a = np.arange(20).reshape(5,4)\n",
      ">>> stats.sem(a)\n",
      "array([ 2.8284,  2.8284,  2.8284,  2.8284])\n",
      "\n",
      "Find standard error across the whole array, using n degrees of freedom:\n",
      "\n",
      ">>> stats.sem(a, axis=None, ddof=0)\n",
      "1.2893796958227628\n",
      "\u001b[0;31mFile:\u001b[0m      ~/anaconda3/envs/practical_stats/lib/python3.10/site-packages/scipy/stats/_stats_py.py\n",
      "\u001b[0;31mType:\u001b[0m      function"
     ]
    }
   ],
   "source": [
    "st.sem?"
   ]
  },
  {
   "cell_type": "code",
   "execution_count": 57,
   "metadata": {},
   "outputs": [
    {
     "data": {
      "text/plain": [
       "(16.75776979778498, 24.042230202215016)"
      ]
     },
     "execution_count": 57,
     "metadata": {},
     "output_type": "execute_result"
    }
   ],
   "source": [
    "# create 95% confidence interval for population mean weight:\n",
    "st.t.interval(confidence=0.95, df=len(data)-1, loc=np.mean(data), scale=st.sem(data))"
   ]
  },
  {
   "cell_type": "markdown",
   "metadata": {},
   "source": [
    "- When working with larger samples (n>=30), we can assume that the sampling distribution of the sample mean is normally distributed."
   ]
  },
  {
   "cell_type": "code",
   "execution_count": 58,
   "metadata": {},
   "outputs": [
    {
     "data": {
      "text/plain": [
       "array([22, 25, 10, 13, 13, 17, 19, 29, 28, 14, 16, 22, 11, 16, 17, 24, 27,\n",
       "       15, 23, 18, 19, 29, 26, 29, 15, 25, 25, 10, 28, 13, 27, 29, 29, 29,\n",
       "       24, 17, 10, 11, 19, 10, 20, 13, 21, 28, 12, 10, 10, 14, 15, 16])"
      ]
     },
     "execution_count": 58,
     "metadata": {},
     "output_type": "execute_result"
    }
   ],
   "source": [
    "#define sample data\n",
    "np.random.seed(0)\n",
    "data = np.random.randint(10, 30, 50)\n",
    "data"
   ]
  },
  {
   "cell_type": "code",
   "execution_count": 59,
   "metadata": {},
   "outputs": [
    {
     "data": {
      "text/plain": [
       "(17.400060940568054, 21.079939059431943)"
      ]
     },
     "execution_count": 59,
     "metadata": {},
     "output_type": "execute_result"
    }
   ],
   "source": [
    "#create 95% confidence interval for population mean weight\n",
    "st.norm.interval(confidence=0.95, loc=np.mean(data), scale=st.sem(data))"
   ]
  },
  {
   "cell_type": "markdown",
   "metadata": {},
   "source": [
    "How to Interpret Confidence Intervals:\n",
    "- Suppose our 95% confidence interval for the true population mean is: (16.758, 24.042)\n",
    "- Interpretation: There is a 95% chance that the confidence interval of [16.758, 24.042] contains the true population mean."
   ]
  },
  {
   "cell_type": "markdown",
   "metadata": {},
   "source": [
    "## Normal Distribution"
   ]
  },
  {
   "cell_type": "markdown",
   "metadata": {},
   "source": [
    "- 68% of the data lies within one standard deviation of the mean.\n",
    "- 95% of the data lies within two standard deviations of the mean.\n",
    "- 99.7% of the data lies within three standard deviations of the mean.\n",
    "- Maany statistics are normally distributed in their sampling distribution."
   ]
  },
  {
   "cell_type": "markdown",
   "metadata": {},
   "source": [
    "PDF: $f(x) = \\frac{1}{\\sqrt{2 \\pi \\sigma^2}} e^{-\\frac{1}{2} (\\frac{x-\\mu}{\\sigma})^2}$"
   ]
  },
  {
   "cell_type": "markdown",
   "metadata": {},
   "source": [
    "### Standard Normal and QQ-Plots"
   ]
  },
  {
   "cell_type": "markdown",
   "metadata": {},
   "source": [
    "- Standard Normal Distribution: one in which units on the x-axis are expressed in terms of standard deviations from the mean.\n",
    "- Normalization/Standardization: subtract the mean, then divide by the standard deviation.\n",
    "    - The transformed value is called a z-score.\n",
    "    - Converting data z-scores does not make the data normally distributed. It just puts the data on the same scale as the standard normal distribution for comparison purposes.\n",
    "- QQ-plot (quantile quantile-plots): used to visually determine how close a sample is to a specified distribution - in this case, the normal distribution."
   ]
  },
  {
   "cell_type": "code",
   "execution_count": 68,
   "metadata": {},
   "outputs": [
    {
     "data": {
      "image/png": "[encoded data removed]",
      "text/plain": [
       "<Figure size 400x400 with 1 Axes>"
      ]
     },
     "metadata": {},
     "output_type": "display_data"
    },
    {
     "data": {
      "image/png": "[encoded data removed]",
      "text/plain": [
       "<Figure size 400x400 with 1 Axes>"
      ]
     },
     "metadata": {},
     "output_type": "display_data"
    }
   ],
   "source": [
    "norm_sample = st.norm.rvs(size=1000)\n",
    "\n",
    "fig, ax = plt.subplots(figsize=(4, 4))\n",
    "plt.hist(norm_sample)\n",
    "plt.show()\n",
    "\n",
    "fig, ax = plt.subplots(figsize=(4, 4))\n",
    "st.probplot(norm_sample, plot=ax)\n",
    "plt.show()"
   ]
  },
  {
   "cell_type": "code",
   "execution_count": 72,
   "metadata": {},
   "outputs": [
    {
     "data": {
      "image/png": "[encoded data removed]",
      "text/plain": [
       "<Figure size 400x400 with 1 Axes>"
      ]
     },
     "metadata": {},
     "output_type": "display_data"
    },
    {
     "data": {
      "image/png": "[encoded data removed]",
      "text/plain": [
       "<Figure size 400x400 with 1 Axes>"
      ]
     },
     "metadata": {},
     "output_type": "display_data"
    }
   ],
   "source": [
    "# Compare players height to standard normal distribution:\n",
    "\n",
    "d = players_df[\"height_inches\"].sample(1000)\n",
    "\n",
    "fig, ax = plt.subplots(figsize=(4, 4))\n",
    "plt.hist(d)\n",
    "plt.show()\n",
    "\n",
    "fig, ax = plt.subplots(figsize=(4, 4))\n",
    "st.probplot(d, plot=ax)\n",
    "plt.show()"
   ]
  },
  {
   "cell_type": "markdown",
   "metadata": {},
   "source": [
    "## Long-tailed Distribution"
   ]
  },
  {
   "cell_type": "markdown",
   "metadata": {},
   "source": [
    "- Raw data is generally not normally distributed.\n",
    "- Most data has some skew (ie assymetry).\n",
    "- Both symmetric and assymtric distributions may have long tails (ie long narrow portion of a freq distr where relatively extreme values occur at low freq)."
   ]
  },
  {
   "cell_type": "code",
   "execution_count": 73,
   "metadata": {},
   "outputs": [],
   "source": [
    "SP500_DATA_CSV = \"data/sp500_data.csv\"\n",
    "sp500_px = pd.read_csv(SP500_DATA_CSV)"
   ]
  },
  {
   "cell_type": "code",
   "execution_count": 78,
   "metadata": {},
   "outputs": [
    {
     "name": "stdout",
     "output_type": "stream",
     "text": [
      "\u001b[0;31mSignature:\u001b[0m       \u001b[0mnp\u001b[0m\u001b[0;34m.\u001b[0m\u001b[0mdiff\u001b[0m\u001b[0;34m(\u001b[0m\u001b[0ma\u001b[0m\u001b[0;34m,\u001b[0m \u001b[0mn\u001b[0m\u001b[0;34m=\u001b[0m\u001b[0;36m1\u001b[0m\u001b[0;34m,\u001b[0m \u001b[0maxis\u001b[0m\u001b[0;34m=\u001b[0m\u001b[0;34m-\u001b[0m\u001b[0;36m1\u001b[0m\u001b[0;34m,\u001b[0m \u001b[0mprepend\u001b[0m\u001b[0;34m=\u001b[0m\u001b[0;34m<\u001b[0m\u001b[0mno\u001b[0m \u001b[0mvalue\u001b[0m\u001b[0;34m>\u001b[0m\u001b[0;34m,\u001b[0m \u001b[0mappend\u001b[0m\u001b[0;34m=\u001b[0m\u001b[0;34m<\u001b[0m\u001b[0mno\u001b[0m \u001b[0mvalue\u001b[0m\u001b[0;34m>\u001b[0m\u001b[0;34m)\u001b[0m\u001b[0;34m\u001b[0m\u001b[0;34m\u001b[0m\u001b[0m\n",
      "\u001b[0;31mCall signature:\u001b[0m  \u001b[0mnp\u001b[0m\u001b[0;34m.\u001b[0m\u001b[0mdiff\u001b[0m\u001b[0;34m(\u001b[0m\u001b[0;34m*\u001b[0m\u001b[0margs\u001b[0m\u001b[0;34m,\u001b[0m \u001b[0;34m**\u001b[0m\u001b[0mkwargs\u001b[0m\u001b[0;34m)\u001b[0m\u001b[0;34m\u001b[0m\u001b[0;34m\u001b[0m\u001b[0m\n",
      "\u001b[0;31mType:\u001b[0m            _ArrayFunctionDispatcher\n",
      "\u001b[0;31mString form:\u001b[0m     <function diff at 0x7ff5857b3490>\n",
      "\u001b[0;31mFile:\u001b[0m            ~/anaconda3/envs/practical_stats/lib/python3.10/site-packages/numpy/lib/function_base.py\n",
      "\u001b[0;31mDocstring:\u001b[0m      \n",
      "Calculate the n-th discrete difference along the given axis.\n",
      "\n",
      "The first difference is given by ``out[i] = a[i+1] - a[i]`` along\n",
      "the given axis, higher differences are calculated by using `diff`\n",
      "recursively.\n",
      "\n",
      "Parameters\n",
      "----------\n",
      "a : array_like\n",
      "    Input array\n",
      "n : int, optional\n",
      "    The number of times values are differenced. If zero, the input\n",
      "    is returned as-is.\n",
      "axis : int, optional\n",
      "    The axis along which the difference is taken, default is the\n",
      "    last axis.\n",
      "prepend, append : array_like, optional\n",
      "    Values to prepend or append to `a` along axis prior to\n",
      "    performing the difference.  Scalar values are expanded to\n",
      "    arrays with length 1 in the direction of axis and the shape\n",
      "    of the input array in along all other axes.  Otherwise the\n",
      "    dimension and shape must match `a` except along axis.\n",
      "\n",
      "    .. versionadded:: 1.16.0\n",
      "\n",
      "Returns\n",
      "-------\n",
      "diff : ndarray\n",
      "    The n-th differences. The shape of the output is the same as `a`\n",
      "    except along `axis` where the dimension is smaller by `n`. The\n",
      "    type of the output is the same as the type of the difference\n",
      "    between any two elements of `a`. This is the same as the type of\n",
      "    `a` in most cases. A notable exception is `datetime64`, which\n",
      "    results in a `timedelta64` output array.\n",
      "\n",
      "See Also\n",
      "--------\n",
      "gradient, ediff1d, cumsum\n",
      "\n",
      "Notes\n",
      "-----\n",
      "Type is preserved for boolean arrays, so the result will contain\n",
      "`False` when consecutive elements are the same and `True` when they\n",
      "differ.\n",
      "\n",
      "For unsigned integer arrays, the results will also be unsigned. This\n",
      "should not be surprising, as the result is consistent with\n",
      "calculating the difference directly:\n",
      "\n",
      ">>> u8_arr = np.array([1, 0], dtype=np.uint8)\n",
      ">>> np.diff(u8_arr)\n",
      "array([255], dtype=uint8)\n",
      ">>> u8_arr[1,...] - u8_arr[0,...]\n",
      "255\n",
      "\n",
      "If this is not desirable, then the array should be cast to a larger\n",
      "integer type first:\n",
      "\n",
      ">>> i16_arr = u8_arr.astype(np.int16)\n",
      ">>> np.diff(i16_arr)\n",
      "array([-1], dtype=int16)\n",
      "\n",
      "Examples\n",
      "--------\n",
      ">>> x = np.array([1, 2, 4, 7, 0])\n",
      ">>> np.diff(x)\n",
      "array([ 1,  2,  3, -7])\n",
      ">>> np.diff(x, n=2)\n",
      "array([  1,   1, -10])\n",
      "\n",
      ">>> x = np.array([[1, 3, 6, 10], [0, 5, 6, 8]])\n",
      ">>> np.diff(x)\n",
      "array([[2, 3, 4],\n",
      "       [5, 1, 2]])\n",
      ">>> np.diff(x, axis=0)\n",
      "array([[-1,  2,  0, -2]])\n",
      "\n",
      ">>> x = np.arange('1066-10-13', '1066-10-16', dtype=np.datetime64)\n",
      ">>> np.diff(x)\n",
      "array([1, 1], dtype='timedelta64[D]')\n",
      "\u001b[0;31mClass docstring:\u001b[0m\n",
      "Class to wrap functions with checks for __array_function__ overrides.\n",
      "\n",
      "All arguments are required, and can only be passed by position.\n",
      "\n",
      "Parameters\n",
      "----------\n",
      "dispatcher : function or None\n",
      "    The dispatcher function that returns a single sequence-like object\n",
      "    of all arguments relevant.  It must have the same signature (except\n",
      "    the default values) as the actual implementation.\n",
      "    If ``None``, this is a ``like=`` dispatcher and the\n",
      "    ``_ArrayFunctionDispatcher`` must be called with ``like`` as the\n",
      "    first (additional and positional) argument.\n",
      "implementation : function\n",
      "    Function that implements the operation on NumPy arrays without\n",
      "    overrides.  Arguments passed calling the ``_ArrayFunctionDispatcher``\n",
      "    will be forwarded to this (and the ``dispatcher``) as if using\n",
      "    ``*args, **kwargs``.\n",
      "\n",
      "Attributes\n",
      "----------\n",
      "_implementation : function\n",
      "    The original implementation passed in."
     ]
    }
   ],
   "source": [
    "np.diff?"
   ]
  },
  {
   "cell_type": "code",
   "execution_count": 79,
   "metadata": {},
   "outputs": [
    {
     "data": {
      "image/png": "[encoded data removed]",
      "text/plain": [
       "<Figure size 400x400 with 1 Axes>"
      ]
     },
     "metadata": {},
     "output_type": "display_data"
    },
    {
     "data": {
      "image/png": "[encoded data removed]",
      "text/plain": [
       "<Figure size 400x400 with 1 Axes>"
      ]
     },
     "metadata": {},
     "output_type": "display_data"
    },
    {
     "data": {
      "image/png": "[encoded data removed]",
      "text/plain": [
       "<Figure size 400x400 with 1 Axes>"
      ]
     },
     "metadata": {},
     "output_type": "display_data"
    },
    {
     "data": {
      "image/png": "[encoded data removed]",
      "text/plain": [
       "<Figure size 400x400 with 1 Axes>"
      ]
     },
     "metadata": {},
     "output_type": "display_data"
    }
   ],
   "source": [
    "ntflx = sp500_px[\"NFLX\"]\n",
    "fig, ax = plt.subplots(figsize=(4, 4))\n",
    "plt.hist(ntflx)\n",
    "plt.show()\n",
    "\n",
    "ntflx = ntflx[ntflx>0]\n",
    "fig, ax = plt.subplots(figsize=(4, 4))\n",
    "plt.hist(ntflx)\n",
    "plt.show()\n",
    "\n",
    "ntflx = np.diff(np.log(ntflx))\n",
    "fig, ax = plt.subplots(figsize=(4, 4))\n",
    "plt.hist(ntflx)\n",
    "plt.show()\n",
    "\n",
    "fig, ax = plt.subplots(figsize=(4, 4))\n",
    "st.probplot(ntflx, plot=ax)\n",
    "plt.show()"
   ]
  },
  {
   "cell_type": "markdown",
   "metadata": {},
   "source": [
    "- The above QQ-plot shows:\n",
    "    - Points are below the line for low values and above the line for high values, indicating that the data is not normally distributed.\n",
    "    - This means: we are muc more likely to observe extreme values than would be expected if the data had a normal distribution.\n",
    "    - Another common phenomenon: points are close to the line for the data within 1-2 standard deviations of the mean. This means the data is behaving normal in the middle, and has long tails."
   ]
  },
  {
   "cell_type": "markdown",
   "metadata": {},
   "source": [
    "## Student's t-Distribution"
   ]
  },
  {
   "cell_type": "markdown",
   "metadata": {},
   "source": [
    "- "
   ]
  },
  {
   "cell_type": "markdown",
   "metadata": {},
   "source": [
    "## Binomial Distribution"
   ]
  },
  {
   "cell_type": "markdown",
   "metadata": {},
   "source": []
  },
  {
   "cell_type": "markdown",
   "metadata": {},
   "source": [
    "## Chi-squared Distribution"
   ]
  },
  {
   "cell_type": "markdown",
   "metadata": {},
   "source": []
  },
  {
   "cell_type": "markdown",
   "metadata": {},
   "source": [
    "## F-Distribution"
   ]
  },
  {
   "cell_type": "markdown",
   "metadata": {},
   "source": []
  },
  {
   "cell_type": "markdown",
   "metadata": {},
   "source": [
    "## Poisson and Related Distributions"
   ]
  },
  {
   "cell_type": "markdown",
   "metadata": {},
   "source": []
  }
 ],
 "metadata": {
  "kernelspec": {
   "display_name": "stuff",
   "language": "python",
   "name": "python3"
  },
  "language_info": {
   "codemirror_mode": {
    "name": "ipython",
    "version": 3
   },
   "file_extension": ".py",
   "mimetype": "text/x-python",
   "name": "python",
   "nbconvert_exporter": "python",
   "pygments_lexer": "ipython3",
   "version": "3.10.13"
  }
 },
 "nbformat": 4,
 "nbformat_minor": 2
}
